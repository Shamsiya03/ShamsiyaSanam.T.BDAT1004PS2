{
 "cells": [
  {
   "cell_type": "code",
   "execution_count": 1,
   "id": "b8019fe3",
   "metadata": {},
   "outputs": [],
   "source": [
    "a = 0\n",
    "def b():\n",
    "    global a\n",
    "    a = c(a)\n",
    "def c(a):\n",
    "    return a + 2"
   ]
  },
  {
   "cell_type": "code",
   "execution_count": 2,
   "id": "b581b9f3",
   "metadata": {},
   "outputs": [
    {
     "data": {
      "text/plain": [
       "6"
      ]
     },
     "execution_count": 2,
     "metadata": {},
     "output_type": "execute_result"
    }
   ],
   "source": [
    "b()\n",
    "b()\n",
    "b()\n",
    "a"
   ]
  },
  {
   "cell_type": "markdown",
   "id": "e91aed4d",
   "metadata": {},
   "source": [
    "We got the output as 6. \n",
    "a=0    => First, we initialized a global variable called a\n",
    "def b():\n",
    "    global a\n",
    "    a = c(a)\n",
    "       => define a function b() that uses the global keyword to modify the global variable a by calling the c(a) function.\n",
    "def c(a):\n",
    "    return a + 2\n",
    "       => define a function c(a) that takes an argument a and returns a + 2\n",
    "b()  => When we call b() function once, a changes to 0+2 =2;\n",
    "Like this when we call b() 3 times a= 4+2 =6;\n",
    "So the output a will be 6 finally."
   ]
  },
  {
   "cell_type": "code",
   "execution_count": 8,
   "id": "2fb166e0",
   "metadata": {},
   "outputs": [
    {
     "name": "stdout",
     "output_type": "stream",
     "text": [
      "Filename idterm.py not found.\n"
     ]
    }
   ],
   "source": [
    "def filelength(file_name):\n",
    "    try:\n",
    "        with open(file_name, 'r') as file:\n",
    "            contents = file.read()\n",
    "            print(len(contents))\n",
    "    except FileNotFoundError:\n",
    "        print(f\"Filename {file_name} not found.\")\n",
    "    except Exception as e:\n",
    "        print(f\"An error occurred: {e}\")\n",
    "filelength(\"idterm.py\")"
   ]
  },
  {
   "cell_type": "code",
   "execution_count": 8,
   "id": "6bd2fac7",
   "metadata": {},
   "outputs": [
    {
     "name": "stdout",
     "output_type": "stream",
     "text": [
      "I am a Kangaroo located at coordinates (0,0)\n",
      "['doll', 'firetruck', 'kitten']\n",
      "I am a Kangaroo located at coordinates (3,0)\n"
     ]
    }
   ],
   "source": [
    "class Marsupial:\n",
    "    def __init__(self):\n",
    "        self.pouch_contents = []\n",
    "\n",
    "    def put_in_pouch(self, item):\n",
    "        self.pouch_contents.append(item)\n",
    "\n",
    "    def pouch_contents(self):\n",
    "        return self.pouch_contents\n",
    "\n",
    "class Kangaroo(Marsupial):\n",
    "    def __init__(self, x, y):\n",
    "        super().__init__()\n",
    "        self.x = x\n",
    "        self.y = y\n",
    "\n",
    "    def jump(self, dx, dy):\n",
    "        self.x += dx\n",
    "        self.y += dy\n",
    "\n",
    "    def __str__(self):\n",
    "        return f\"I am a Kangaroo located at coordinates ({self.x},{self.y})\"\n",
    "\n",
    "\n",
    "k = Kangaroo(0,0)\n",
    "print(k)\n",
    "k.put_in_pouch('doll')\n",
    "k.put_in_pouch('firetruck')\n",
    "k.put_in_pouch('kitten')\n",
    "print(k.pouch_contents)\n",
    "k.jump(1,0) \n",
    "k.jump(1,0) \n",
    "k.jump(1,0) \n",
    "print(k) "
   ]
  },
  {
   "cell_type": "code",
   "execution_count": 9,
   "id": "8f8966a2",
   "metadata": {},
   "outputs": [],
   "source": [
    "def collatz(x):\n",
    "    print(x)\n",
    "    if x == 1:\n",
    "        return\n",
    "    elif x % 2 == 0:\n",
    "        collatz(x // 2)\n",
    "    else:\n",
    "        collatz(3 * x + 1)"
   ]
  },
  {
   "cell_type": "code",
   "execution_count": 10,
   "id": "5e5e7cbe",
   "metadata": {},
   "outputs": [
    {
     "name": "stdout",
     "output_type": "stream",
     "text": [
      "1\n"
     ]
    }
   ],
   "source": [
    "collatz(1)"
   ]
  },
  {
   "cell_type": "code",
   "execution_count": 11,
   "id": "11ab822e",
   "metadata": {},
   "outputs": [
    {
     "name": "stdout",
     "output_type": "stream",
     "text": [
      "10\n",
      "5\n",
      "16\n",
      "8\n",
      "4\n",
      "2\n",
      "1\n"
     ]
    }
   ],
   "source": [
    "collatz(10)"
   ]
  },
  {
   "cell_type": "code",
   "execution_count": 2,
   "id": "d3cb5c58",
   "metadata": {},
   "outputs": [],
   "source": [
    "def binary(n):\n",
    "    if n > 1:\n",
    "        binary(n // 2)\n",
    "    print(n % 2, end=\"\")"
   ]
  },
  {
   "cell_type": "code",
   "execution_count": 3,
   "id": "d4005851",
   "metadata": {},
   "outputs": [
    {
     "name": "stdout",
     "output_type": "stream",
     "text": [
      "0"
     ]
    }
   ],
   "source": [
    "binary(0)"
   ]
  },
  {
   "cell_type": "code",
   "execution_count": 4,
   "id": "a7a7a1cc",
   "metadata": {},
   "outputs": [
    {
     "name": "stdout",
     "output_type": "stream",
     "text": [
      "1"
     ]
    }
   ],
   "source": [
    "binary(1)"
   ]
  },
  {
   "cell_type": "code",
   "execution_count": 5,
   "id": "b05e33e8",
   "metadata": {},
   "outputs": [
    {
     "name": "stdout",
     "output_type": "stream",
     "text": [
      "11"
     ]
    }
   ],
   "source": [
    "binary(3)"
   ]
  },
  {
   "cell_type": "code",
   "execution_count": 6,
   "id": "ece3c4c1",
   "metadata": {},
   "outputs": [
    {
     "name": "stdout",
     "output_type": "stream",
     "text": [
      "1001"
     ]
    }
   ],
   "source": [
    "binary(9)"
   ]
  },
  {
   "cell_type": "markdown",
   "id": "626fa8ba",
   "metadata": {},
   "source": [
    "8.a) All the temperature data."
   ]
  },
  {
   "cell_type": "code",
   "execution_count": null,
   "id": "ffcd00e7",
   "metadata": {},
   "outputs": [],
   "source": [
    "SELECT Temperature FROM Weather;"
   ]
  },
  {
   "cell_type": "markdown",
   "id": "5ff3c0fc",
   "metadata": {},
   "source": [
    "8.b) All the cities, but without repetition.SELECT DISTINCT City FROM Weather."
   ]
  },
  {
   "cell_type": "code",
   "execution_count": null,
   "id": "64dfbb54",
   "metadata": {},
   "outputs": [],
   "source": [
    "SELECT DISTINCT City FROM Weather;"
   ]
  },
  {
   "cell_type": "markdown",
   "id": "447f63c3",
   "metadata": {},
   "source": [
    "8.c)All the records for India."
   ]
  },
  {
   "cell_type": "code",
   "execution_count": null,
   "id": "01cb8e71",
   "metadata": {},
   "outputs": [],
   "source": [
    "SELECT * FROM Weather WHERE Country = 'India';"
   ]
  },
  {
   "cell_type": "markdown",
   "id": "6f9de32d",
   "metadata": {},
   "source": [
    "8.d)All the Fall records."
   ]
  },
  {
   "cell_type": "code",
   "execution_count": null,
   "id": "fc8fe0e7",
   "metadata": {},
   "outputs": [],
   "source": [
    "SELECT * FROM Weather WHERE Season = 'Fall';"
   ]
  },
  {
   "cell_type": "markdown",
   "id": "e751c176",
   "metadata": {},
   "source": [
    "8.e)The city, country, and season for which the average rainfall is between 200 and 400 millimeters."
   ]
  },
  {
   "cell_type": "code",
   "execution_count": null,
   "id": "afa2a03c",
   "metadata": {},
   "outputs": [],
   "source": [
    "SELECT City, Country, Season\n",
    "FROM Weather\n",
    "GROUP BY City, Country, Season\n",
    "HAVING AVG(Rainfall) BETWEEN 200 AND 400;"
   ]
  },
  {
   "cell_type": "markdown",
   "id": "8f9e808d",
   "metadata": {},
   "source": [
    "8.f)The city and country for which the average Fall temperature is above 20 degrees, in increasing temperature order."
   ]
  },
  {
   "cell_type": "code",
   "execution_count": null,
   "id": "11770a64",
   "metadata": {},
   "outputs": [],
   "source": [
    "SELECT City, Country\n",
    "FROM Weather\n",
    "WHERE Season = 'Fall'\n",
    "GROUP BY City, Country\n",
    "HAVING AVG(Temperature) > 20\n",
    "ORDER BY AVG(Temperature) ASC;"
   ]
  },
  {
   "cell_type": "code",
   "execution_count": null,
   "id": "492d49d0",
   "metadata": {},
   "outputs": [],
   "source": [
    "8.g)The total annual rainfall for Cairo."
   ]
  },
  {
   "cell_type": "code",
   "execution_count": null,
   "id": "588dbeab",
   "metadata": {},
   "outputs": [],
   "source": [
    "SELECT SUM(Rainfall) AS Total_Rainfall\n",
    "FROM Weather\n",
    "WHERE City = 'Cairo';"
   ]
  },
  {
   "cell_type": "code",
   "execution_count": null,
   "id": "675d2e77",
   "metadata": {},
   "outputs": [],
   "source": [
    "8.h)The total rainfall for each season."
   ]
  },
  {
   "cell_type": "code",
   "execution_count": null,
   "id": "f57bfc52",
   "metadata": {},
   "outputs": [],
   "source": [
    "SELECT Season, SUM(Rainfall) AS Total_Rainfall\n",
    "FROM Weather\n",
    "GROUP BY Season;"
   ]
  },
  {
   "cell_type": "code",
   "execution_count": 12,
   "id": "d260088f",
   "metadata": {},
   "outputs": [
    {
     "name": "stdout",
     "output_type": "stream",
     "text": [
      "['THE', 'QUICK', 'BROWN', 'FOX', 'JUMPS', 'OVER', 'THE', 'LAZY', 'DOG']\n",
      "['the', 'quick', 'brown', 'fox', 'jumps', 'over', 'the', 'lazy', 'dog']\n",
      "[3, 5, 5, 3, 5, 4, 3, 4, 3]\n",
      "[['THE', 'the', 3], ['QUICK', 'quick', 5], ['BROWN', 'brown', 5], ['FOX', 'fox', 3], ['JUMPS', 'jumps', 5], ['OVER', 'over', 4], ['THE', 'the', 3], ['LAZY', 'lazy', 4], ['DOG', 'dog', 3]]\n",
      "['quick', 'brown', 'jumps', 'over', 'lazy']\n"
     ]
    }
   ],
   "source": [
    "words= ['The', 'quick', 'brown', 'fox', 'jumps', 'over', 'the', 'lazy', 'dog']\n",
    "uppercase_words = [word.upper() for word in words]\n",
    "lowercase_info = [word.lower() for word in uppercase_words]\n",
    "wordlength=[len(word) for word in words]\n",
    "mixed_list = [[word.upper(), word.lower(), len(word)] for word in words]\n",
    "filtered_words = [word for word in words if len(word) >= 4]\n",
    "\n",
    "print(uppercase_words)\n",
    "print(lowercase_info)\n",
    "print (wordlength)\n",
    "print(mixed_list)\n",
    "print(filtered_words)"
   ]
  },
  {
   "cell_type": "code",
   "execution_count": null,
   "id": "6a65ce7b",
   "metadata": {},
   "outputs": [],
   "source": []
  },
  {
   "cell_type": "code",
   "execution_count": null,
   "id": "49748570",
   "metadata": {},
   "outputs": [],
   "source": []
  }
 ],
 "metadata": {
  "kernelspec": {
   "display_name": "Python 3 (ipykernel)",
   "language": "python",
   "name": "python3"
  },
  "language_info": {
   "codemirror_mode": {
    "name": "ipython",
    "version": 3
   },
   "file_extension": ".py",
   "mimetype": "text/x-python",
   "name": "python",
   "nbconvert_exporter": "python",
   "pygments_lexer": "ipython3",
   "version": "3.11.4"
  }
 },
 "nbformat": 4,
 "nbformat_minor": 5
}
